{
 "cells": [
  {
   "cell_type": "code",
   "execution_count": 1,
   "id": "7200d9c0",
   "metadata": {
    "_cell_guid": "b1076dfc-b9ad-4769-8c92-a6c4dae69d19",
    "_uuid": "8f2839f25d086af736a60e9eeb907d3b93b6e0e5",
    "execution": {
     "iopub.execute_input": "2024-07-08T05:47:11.153917Z",
     "iopub.status.busy": "2024-07-08T05:47:11.153207Z",
     "iopub.status.idle": "2024-07-08T05:47:11.951273Z",
     "shell.execute_reply": "2024-07-08T05:47:11.950214Z"
    },
    "papermill": {
     "duration": 0.804712,
     "end_time": "2024-07-08T05:47:11.954020",
     "exception": false,
     "start_time": "2024-07-08T05:47:11.149308",
     "status": "completed"
    },
    "tags": []
   },
   "outputs": [],
   "source": [
    "# This Python 3 environment comes with many helpful analytics libraries installed\n",
    "# It is defined by the kaggle/python Docker image: https://github.com/kaggle/docker-python\n",
    "# For example, here's several helpful packages to load\n",
    "\n",
    "import numpy as np # linear algebra\n",
    "import pandas as pd # data processing, CSV file I/O (e.g. pd.read_csv)"
   ]
  },
  {
   "cell_type": "markdown",
   "id": "5df13a19",
   "metadata": {
    "papermill": {
     "duration": 0.001429,
     "end_time": "2024-07-08T05:47:11.957435",
     "exception": false,
     "start_time": "2024-07-08T05:47:11.956006",
     "status": "completed"
    },
    "tags": []
   },
   "source": [
    "### Choosing the Right Metric\n",
    "\n",
    "\n",
    "<center>\n",
    "    <img src = 'images/uci_biz.png'/>\n",
    "</center>\n",
    "\n",
    "\n",
    "This module introduced both the K Nearest Neighbors model as well as a variety of different metrics for classification.  It is important to select and understand the appropriate metric for your task.  This exercise is meant to get practice considering the difference between these new classification metrics and accompanying evaluation tools. Specifically, explore datasets related to business from the UCI Machine Learning Repository [here](https://archive-beta.ics.uci.edu/ml/datasets?f%5Barea%5D%5B0%5D=business&p%5Boffset%5D=0&p%5Blimit%5D=10&p%5BorderBy%5D=NumHits&p%5Border%5D=desc&p%5BStatus%5D=APPROVED).  \n",
    "\n",
    "Select a dataset of interest and clearly state the classification task.  Specifically, describe a business problem that could be solved using the dataset and a KNN classification model.  Further, identify what you believe to be the appropriate metric and justify your choice.  Build a basic model with the `KNearestNeighbor` and grid search to optimize towards your chosen metric.  Share your results with your peers."
   ]
  },
  {
   "cell_type": "code",
   "execution_count": null,
   "id": "fc37b798",
   "metadata": {
    "papermill": {
     "duration": 0.001305,
     "end_time": "2024-07-08T05:47:11.960410",
     "exception": false,
     "start_time": "2024-07-08T05:47:11.959105",
     "status": "completed"
    },
    "tags": []
   },
   "outputs": [],
   "source": []
  }
 ],
 "metadata": {
  "kaggle": {
   "accelerator": "none",
   "dataSources": [],
   "dockerImageVersionId": 30732,
   "isGpuEnabled": false,
   "isInternetEnabled": true,
   "language": "python",
   "sourceType": "notebook"
  },
  "kernelspec": {
   "display_name": "Python 3",
   "language": "python",
   "name": "python3"
  },
  "language_info": {
   "codemirror_mode": {
    "name": "ipython",
    "version": 3
   },
   "file_extension": ".py",
   "mimetype": "text/x-python",
   "name": "python",
   "nbconvert_exporter": "python",
   "pygments_lexer": "ipython3",
   "version": "3.10.13"
  },
  "papermill": {
   "default_parameters": {},
   "duration": 3.887739,
   "end_time": "2024-07-08T05:47:12.382424",
   "environment_variables": {},
   "exception": null,
   "input_path": "__notebook__.ipynb",
   "output_path": "__notebook__.ipynb",
   "parameters": {},
   "start_time": "2024-07-08T05:47:08.494685",
   "version": "2.5.0"
  }
 },
 "nbformat": 4,
 "nbformat_minor": 5
}
